{
 "cells": [
  {
   "cell_type": "code",
   "execution_count": 2,
   "metadata": {
    "collapsed": true,
    "ExecuteTime": {
     "start_time": "2023-05-27T16:02:09.340442Z",
     "end_time": "2023-05-27T16:02:09.365626Z"
    }
   },
   "outputs": [
    {
     "name": "stdout",
     "output_type": "stream",
     "text": [
      "False\n"
     ]
    }
   ],
   "source": [
    "import torch\n",
    "\n",
    "X = torch.rand(10)\n",
    "Y = torch.rand(10)\n",
    "\n",
    "before = id(Y)\n",
    "\n",
    "Y = Y + X\n",
    "\n",
    "print(id(Y) == before)\n",
    "\n",
    "# 在上述计算中，计算结果Y 被分配新的内存，有两个缺点：\n",
    "# 1. 内存浪费，深度学习中参数量大，我们希望可以在原地进行参数更新\n",
    "# 2. 如果不原地更新参数，其他引用如果指向原内存，有使用优化前参数的风险"
   ]
  },
  {
   "cell_type": "code",
   "execution_count": 3,
   "outputs": [
    {
     "name": "stdout",
     "output_type": "stream",
     "text": [
      "True\n"
     ]
    }
   ],
   "source": [
    "import torch\n",
    "\n",
    "# 可以通过切片表示法， 将计算结果分配给之前的张量\n",
    "X = torch.rand(10)\n",
    "Y = torch.rand(10)\n",
    "\n",
    "before = id(Y)\n",
    "\n",
    "Y[:] = X + Y\n",
    "\n",
    "print(id(Y) == before)"
   ],
   "metadata": {
    "collapsed": false,
    "ExecuteTime": {
     "start_time": "2023-05-27T16:07:47.455537Z",
     "end_time": "2023-05-27T16:07:47.486625Z"
    }
   }
  },
  {
   "cell_type": "code",
   "execution_count": null,
   "outputs": [],
   "source": [],
   "metadata": {
    "collapsed": false
   }
  }
 ],
 "metadata": {
  "kernelspec": {
   "display_name": "Python 3",
   "language": "python",
   "name": "python3"
  },
  "language_info": {
   "codemirror_mode": {
    "name": "ipython",
    "version": 2
   },
   "file_extension": ".py",
   "mimetype": "text/x-python",
   "name": "python",
   "nbconvert_exporter": "python",
   "pygments_lexer": "ipython2",
   "version": "2.7.6"
  }
 },
 "nbformat": 4,
 "nbformat_minor": 0
}
