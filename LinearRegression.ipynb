{
 "cells": [
  {
   "cell_type": "code",
   "execution_count": 12,
   "metadata": {
    "collapsed": true,
    "ExecuteTime": {
     "start_time": "2023-06-01T18:15:17.688530Z",
     "end_time": "2023-06-01T18:15:18.377095Z"
    }
   },
   "outputs": [
    {
     "name": "stdout",
     "output_type": "stream",
     "text": [
      "True\n",
      "epoch:0, loss:291.4667053222656\n",
      "epoch:50, loss:4.144990921020508\n",
      "epoch:100, loss:2.3641457557678223\n",
      "epoch:150, loss:1.3484207391738892\n",
      "epoch:200, loss:0.76908940076828\n",
      "epoch:250, loss:0.4386601448059082\n",
      "epoch:300, loss:0.2501954436302185\n",
      "epoch:350, loss:0.14270223677158356\n",
      "epoch:400, loss:0.08139205724000931\n",
      "epoch:450, loss:0.04642292857170105\n",
      "epoch:500, loss:0.02647782862186432\n",
      "epoch:550, loss:0.015101931989192963\n",
      "epoch:600, loss:0.008613687008619308\n",
      "epoch:650, loss:0.004912903066724539\n",
      "epoch:700, loss:0.002802156377583742\n",
      "epoch:750, loss:0.001598253846168518\n",
      "epoch:800, loss:0.0009116025175899267\n",
      "epoch:850, loss:0.0005199285806156695\n",
      "epoch:900, loss:0.0002965496969409287\n",
      "epoch:950, loss:0.00016912403225433081\n"
     ]
    }
   ],
   "source": [
    "import numpy as np\n",
    "\n",
    "x_values = [i for i in range(11)]\n",
    "\n",
    "train_x = np.array(x_values)\n",
    "train_x = train_x.reshape(-1, 1)\n",
    "train_x = train_x.astype(np.float32)\n",
    "\n",
    "y_values = [2 * i + 5 for i in range(11)]\n",
    "\n",
    "train_y = np.array(y_values)\n",
    "train_y = train_y.reshape(-1, 1)\n",
    "train_y = train_y.astype(np.float32)\n",
    "\n",
    "# 线性回归模型\n",
    "\n",
    "import torch\n",
    "import torch.nn as nn\n",
    "\n",
    "\n",
    "class LinearRegressionModel(nn.Module):\n",
    "    def __init__(self, input_dim, output_dim):\n",
    "        super(LinearRegressionModel, self).__init__()\n",
    "        self.linear = nn.Linear(input_dim, output_dim)\n",
    "\n",
    "    def forward(self, x):\n",
    "        out = self.linear(x)\n",
    "        return out\n",
    "\n",
    "\n",
    "input_dims = 1\n",
    "output_dims = 1\n",
    "\n",
    "model = LinearRegressionModel(input_dims, output_dims)\n",
    "\n",
    "# 使用GPU训练, 把数据和模型传入CUDA中\n",
    "device = torch.device('cuda:0' if torch.cuda.is_available() else 'cpu')\n",
    "print(torch.cuda.is_available())\n",
    "model.to(device)\n",
    "\n",
    "\n",
    "epochs = 1000\n",
    "learning_rate = 0.01\n",
    "optimizer = torch.optim.SGD(model.parameters(), lr=learning_rate)\n",
    "criterion = nn.MSELoss()\n",
    "# 训练模型\n",
    "for epoch in range(epochs):\n",
    "    # ndarray转tensor\n",
    "    inputs = torch.from_numpy(train_x).to(device)\n",
    "    labels = torch.from_numpy(train_y).to(device)\n",
    "\n",
    "    #每一次迭代，梯度清零\n",
    "    optimizer.zero_grad()\n",
    "\n",
    "    # 前向传播\n",
    "    outputs = model.forward(inputs)\n",
    "\n",
    "    # 计算损失\n",
    "    loss = criterion(outputs, labels)\n",
    "\n",
    "    # 反向传播\n",
    "    loss.backward()\n",
    "\n",
    "    # 参数更新\n",
    "    optimizer.step()\n",
    "\n",
    "    if epoch % 50 == 0:\n",
    "        print('epoch:{}, loss:{}'.format(epoch, loss))"
   ]
  },
  {
   "cell_type": "code",
   "execution_count": 8,
   "outputs": [
    {
     "data": {
      "text/plain": "array([[ 4.9856544],\n       [ 6.9877205],\n       [ 8.989786 ],\n       [10.991852 ],\n       [12.993917 ],\n       [14.995983 ],\n       [16.99805  ],\n       [19.000116 ],\n       [21.002182 ],\n       [23.004248 ],\n       [25.006313 ]], dtype=float32)"
     },
     "execution_count": 8,
     "metadata": {},
     "output_type": "execute_result"
    }
   ],
   "source": [
    "predictions = model(torch.from_numpy(train_x)).data.numpy()\n",
    "\n",
    "predictions"
   ],
   "metadata": {
    "collapsed": false,
    "ExecuteTime": {
     "start_time": "2023-06-01T18:08:33.592626Z",
     "end_time": "2023-06-01T18:08:33.612825Z"
    }
   }
  },
  {
   "cell_type": "code",
   "execution_count": 9,
   "outputs": [],
   "source": [
    "# 模型的保存与读取\n",
    "\n",
    "torch.save(model.state_dict(), 'model.pkl')\n"
   ],
   "metadata": {
    "collapsed": false,
    "ExecuteTime": {
     "start_time": "2023-06-01T18:10:07.975313Z",
     "end_time": "2023-06-01T18:10:08.023938Z"
    }
   }
  },
  {
   "cell_type": "code",
   "execution_count": 10,
   "outputs": [
    {
     "data": {
      "text/plain": "<All keys matched successfully>"
     },
     "execution_count": 10,
     "metadata": {},
     "output_type": "execute_result"
    }
   ],
   "source": [
    "model.load_state_dict(torch.load('model.pkl'))"
   ],
   "metadata": {
    "collapsed": false,
    "ExecuteTime": {
     "start_time": "2023-06-01T18:10:55.142209Z",
     "end_time": "2023-06-01T18:10:55.171212Z"
    }
   }
  },
  {
   "cell_type": "code",
   "execution_count": null,
   "outputs": [],
   "source": [],
   "metadata": {
    "collapsed": false
   }
  }
 ],
 "metadata": {
  "kernelspec": {
   "display_name": "Python 3",
   "language": "python",
   "name": "python3"
  },
  "language_info": {
   "codemirror_mode": {
    "name": "ipython",
    "version": 2
   },
   "file_extension": ".py",
   "mimetype": "text/x-python",
   "name": "python",
   "nbconvert_exporter": "python",
   "pygments_lexer": "ipython2",
   "version": "2.7.6"
  }
 },
 "nbformat": 4,
 "nbformat_minor": 0
}
