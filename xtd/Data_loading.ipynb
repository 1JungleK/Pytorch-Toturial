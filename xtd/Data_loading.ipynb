{
 "cells": [
  {
   "cell_type": "markdown",
   "id": "e6688945",
   "metadata": {},
   "source": [
    "- Dataset类： 提供一种获取数据及其标签的方式\n",
    "    - 如何获取每一个数据及其label\n",
    "    - 总共有多少个数据\n",
    "\n",
    "- Dataloader类: 为后续网络提供不同形式的数据形式"
   ]
  },
  {
   "cell_type": "code",
   "execution_count": 10,
   "id": "6c3f1ef6",
   "metadata": {},
   "outputs": [],
   "source": [
    "from torch.utils.data import Dataset\n",
    "from PIL import Image\n",
    "import os\n",
    "\n",
    "class MyDataset(Dataset):\n",
    "    def __init__(self, root_dir, label_dir):\n",
    "        self.root_dir = root_dir\n",
    "        self.label_dir = label_dir\n",
    "        self.path = os.path.join(self.root_dir, self.label_dir)\n",
    "        self.img_path = os.listdir(self.path)\n",
    "\n",
    "\n",
    "    def __len__(self):\n",
    "        return len(self.img_path)\n",
    "\n",
    "\n",
    "    def __getitem__(self, idx):\n",
    "        img_name = self.img_path[idx]\n",
    "        img_item_path = os.path.join(self.root_dir, self.label_dir, img_name)\n",
    "        image = Image.open(img_item_path)\n",
    "        label = self.label_dir\n",
    "        return image, label\n"
   ]
  },
  {
   "cell_type": "code",
   "execution_count": 32,
   "id": "25d0c67a",
   "metadata": {},
   "outputs": [],
   "source": [
    "from torch.utils.data import ConcatDataset\n",
    "\n",
    "root_dir = \"data/cat-breeds\"\n",
    "\n",
    "labels_dir = [\n",
    "    f for f in os.listdir(root_dir) \n",
    "    if os.path.isdir(os.path.join(root_dir, f))\n",
    "]\n",
    "\n",
    "datasets = []\n",
    "\n",
    "for label in labels_dir:\n",
    "    dataset = MyDataset(root_dir, label)\n",
    "    datasets.append(dataset)\n",
    "\n",
    "train_dataset = ConcatDataset(datasets)\n"
   ]
  },
  {
   "cell_type": "code",
   "execution_count": 31,
   "id": "4033ae7b",
   "metadata": {},
   "outputs": [
    {
     "data": {
      "text/plain": [
       "11284"
      ]
     },
     "execution_count": 31,
     "metadata": {},
     "output_type": "execute_result"
    }
   ],
   "source": [
    "len(train_dataset)"
   ]
  }
 ],
 "metadata": {
  "kernelspec": {
   "display_name": "torch",
   "language": "python",
   "name": "python3"
  },
  "language_info": {
   "codemirror_mode": {
    "name": "ipython",
    "version": 3
   },
   "file_extension": ".py",
   "mimetype": "text/x-python",
   "name": "python",
   "nbconvert_exporter": "python",
   "pygments_lexer": "ipython3",
   "version": "3.11.11"
  }
 },
 "nbformat": 4,
 "nbformat_minor": 5
}
