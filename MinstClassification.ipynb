{
 "cells": [
  {
   "cell_type": "code",
   "execution_count": 25,
   "metadata": {
    "ExecuteTime": {
     "end_time": "2023-06-03T12:34:23.325894Z",
     "start_time": "2023-06-03T12:34:22.623361Z"
    },
    "collapsed": true
   },
   "outputs": [
    {
     "name": "stdout",
     "output_type": "stream",
     "text": [
      "Using cuda device\n",
      "\n"
     ]
    }
   ],
   "source": [
    "import torch\n",
    "from torch.utils.data import DataLoader\n",
    "from torchvision import datasets\n",
    "from torchvision.transforms import ToTensor\n",
    "from torch import nn\n",
    "import matplotlib.pyplot as plt\n",
    "\n",
    "\n",
    "# # 检查torch.cuda是否可用，否则继续使用CPU\n",
    "device = 'cuda' if torch.cuda.is_available() else 'cpu'\n",
    "print(f'Using {device} device\\n')"
   ]
  },
  {
   "cell_type": "code",
   "execution_count": 26,
   "metadata": {
    "ExecuteTime": {
     "end_time": "2023-06-03T12:34:34.697328Z",
     "start_time": "2023-06-03T12:34:25.247961Z"
    },
    "collapsed": false
   },
   "outputs": [
    {
     "name": "stdout",
     "output_type": "stream",
     "text": [
      "Downloading http://fashion-mnist.s3-website.eu-central-1.amazonaws.com/train-images-idx3-ubyte.gz\n",
      "Downloading http://fashion-mnist.s3-website.eu-central-1.amazonaws.com/train-images-idx3-ubyte.gz to data\\FashionMNIST\\raw\\train-images-idx3-ubyte.gz\n"
     ]
    },
    {
     "name": "stderr",
     "output_type": "stream",
     "text": [
      "100.0%\n"
     ]
    },
    {
     "name": "stdout",
     "output_type": "stream",
     "text": [
      "Extracting data\\FashionMNIST\\raw\\train-images-idx3-ubyte.gz to data\\FashionMNIST\\raw\n",
      "\n",
      "Downloading http://fashion-mnist.s3-website.eu-central-1.amazonaws.com/train-labels-idx1-ubyte.gz\n",
      "Downloading http://fashion-mnist.s3-website.eu-central-1.amazonaws.com/train-labels-idx1-ubyte.gz to data\\FashionMNIST\\raw\\train-labels-idx1-ubyte.gz\n"
     ]
    },
    {
     "name": "stderr",
     "output_type": "stream",
     "text": [
      "100.0%\n"
     ]
    },
    {
     "name": "stdout",
     "output_type": "stream",
     "text": [
      "Extracting data\\FashionMNIST\\raw\\train-labels-idx1-ubyte.gz to data\\FashionMNIST\\raw\n",
      "\n",
      "Downloading http://fashion-mnist.s3-website.eu-central-1.amazonaws.com/t10k-images-idx3-ubyte.gz\n",
      "Downloading http://fashion-mnist.s3-website.eu-central-1.amazonaws.com/t10k-images-idx3-ubyte.gz to data\\FashionMNIST\\raw\\t10k-images-idx3-ubyte.gz\n"
     ]
    },
    {
     "name": "stderr",
     "output_type": "stream",
     "text": [
      "100.0%\n"
     ]
    },
    {
     "name": "stdout",
     "output_type": "stream",
     "text": [
      "Extracting data\\FashionMNIST\\raw\\t10k-images-idx3-ubyte.gz to data\\FashionMNIST\\raw\n",
      "\n",
      "Downloading http://fashion-mnist.s3-website.eu-central-1.amazonaws.com/t10k-labels-idx1-ubyte.gz\n",
      "Downloading http://fashion-mnist.s3-website.eu-central-1.amazonaws.com/t10k-labels-idx1-ubyte.gz to data\\FashionMNIST\\raw\\t10k-labels-idx1-ubyte.gz\n"
     ]
    },
    {
     "name": "stderr",
     "output_type": "stream",
     "text": [
      "100.0%"
     ]
    },
    {
     "name": "stdout",
     "output_type": "stream",
     "text": [
      "Extracting data\\FashionMNIST\\raw\\t10k-labels-idx1-ubyte.gz to data\\FashionMNIST\\raw\n",
      "\n"
     ]
    },
    {
     "name": "stderr",
     "output_type": "stream",
     "text": [
      "\n"
     ]
    }
   ],
   "source": [
    "# # FashionMNIST 数据集：\n",
    "# 训练集\n",
    "training_data = datasets.FashionMNIST(root=\"data\",             # 存储训练数据的路径\n",
    "                                      train=True,              # 训练集\n",
    "                                      download=True,           # 从网络下载\n",
    "                                      transform=ToTensor())    # 将图片转换为张量\n",
    "# 测试集\n",
    "test_data = datasets.FashionMNIST(root=\"data\",                 # 存储测试数据的路径\n",
    "                                  train=False,                 # 测试集\n",
    "                                  download=True,               # 从网络下载\n",
    "                                  transform=ToTensor())        # 将图片转换为张量"
   ]
  },
  {
   "cell_type": "code",
   "execution_count": 27,
   "metadata": {
    "ExecuteTime": {
     "end_time": "2023-06-03T12:34:38.201237Z",
     "start_time": "2023-06-03T12:34:38.105153Z"
    },
    "collapsed": false
   },
   "outputs": [
    {
     "name": "stdout",
     "output_type": "stream",
     "text": [
      "Len of dataloader: 235\n",
      "Len of dataset: 60000\n",
      "\n",
      "\n",
      "Train_features in a batch run: tensor([[[[0.0000, 0.0000, 0.0000,  ..., 0.0000, 0.0000, 0.0000],\n",
      "          [0.0000, 0.0000, 0.0000,  ..., 0.0000, 0.0000, 0.0000],\n",
      "          [0.0000, 0.0000, 0.0000,  ..., 0.0000, 0.0000, 0.0000],\n",
      "          ...,\n",
      "          [0.0000, 0.0000, 0.0000,  ..., 0.0000, 0.0000, 0.0000],\n",
      "          [0.0000, 0.0000, 0.0000,  ..., 0.0000, 0.0000, 0.0000],\n",
      "          [0.0000, 0.0000, 0.0000,  ..., 0.0000, 0.0000, 0.0000]]],\n",
      "\n",
      "\n",
      "        [[[0.0000, 0.0000, 0.0000,  ..., 0.0000, 0.0000, 0.0000],\n",
      "          [0.0000, 0.0000, 0.0000,  ..., 0.0000, 0.0000, 0.0000],\n",
      "          [0.0000, 0.0000, 0.0000,  ..., 0.0000, 0.0000, 0.0000],\n",
      "          ...,\n",
      "          [0.0000, 0.0000, 0.0000,  ..., 0.0000, 0.0000, 0.0000],\n",
      "          [0.0000, 0.0000, 0.0000,  ..., 0.0000, 0.0000, 0.0000],\n",
      "          [0.0000, 0.0000, 0.0000,  ..., 0.0000, 0.0000, 0.0000]]],\n",
      "\n",
      "\n",
      "        [[[0.0000, 0.0000, 0.0000,  ..., 0.0000, 0.0000, 0.0000],\n",
      "          [0.0000, 0.0000, 0.0000,  ..., 0.0000, 0.0000, 0.0000],\n",
      "          [0.0000, 0.0000, 0.0000,  ..., 0.7608, 0.5216, 0.0000],\n",
      "          ...,\n",
      "          [0.0000, 0.6314, 0.7882,  ..., 0.8196, 0.7569, 0.0627],\n",
      "          [0.0000, 0.2510, 0.6353,  ..., 0.7922, 0.8980, 0.0000],\n",
      "          [0.0000, 0.0000, 0.0000,  ..., 0.1882, 0.1765, 0.0000]]],\n",
      "\n",
      "\n",
      "        ...,\n",
      "\n",
      "\n",
      "        [[[0.0000, 0.0000, 0.0000,  ..., 0.0000, 0.0000, 0.0000],\n",
      "          [0.0000, 0.0000, 0.0000,  ..., 0.0000, 0.0000, 0.0000],\n",
      "          [0.0000, 0.0000, 0.0000,  ..., 0.0000, 0.0000, 0.0000],\n",
      "          ...,\n",
      "          [0.0000, 0.0078, 0.0078,  ..., 0.0000, 0.0275, 0.0000],\n",
      "          [0.0000, 0.0000, 0.0000,  ..., 0.0000, 0.0000, 0.0000],\n",
      "          [0.0000, 0.0000, 0.0000,  ..., 0.0000, 0.0000, 0.0000]]],\n",
      "\n",
      "\n",
      "        [[[0.0000, 0.0000, 0.0000,  ..., 0.0000, 0.0000, 0.0000],\n",
      "          [0.0000, 0.0000, 0.0000,  ..., 0.0000, 0.0000, 0.0000],\n",
      "          [0.0000, 0.0000, 0.0000,  ..., 0.0000, 0.0000, 0.0000],\n",
      "          ...,\n",
      "          [0.0000, 0.0000, 0.0000,  ..., 0.0000, 0.0000, 0.0000],\n",
      "          [0.0000, 0.0000, 0.0000,  ..., 0.0000, 0.0000, 0.0000],\n",
      "          [0.0000, 0.0000, 0.0000,  ..., 0.0000, 0.0000, 0.0000]]],\n",
      "\n",
      "\n",
      "        [[[0.0000, 0.0000, 0.0000,  ..., 0.0000, 0.0000, 0.0000],\n",
      "          [0.0000, 0.0000, 0.0000,  ..., 0.0000, 0.0000, 0.0000],\n",
      "          [0.0000, 0.0000, 0.0000,  ..., 0.0000, 0.5804, 0.1608],\n",
      "          ...,\n",
      "          [0.0000, 0.0000, 0.0902,  ..., 0.9059, 0.9686, 0.3333],\n",
      "          [0.0000, 0.0000, 0.0000,  ..., 0.2471, 0.2902, 0.0000],\n",
      "          [0.0000, 0.0000, 0.0000,  ..., 0.0000, 0.0000, 0.0000]]]]) shape: torch.Size([256, 1, 28, 28])\n",
      "Train_labels in a batch run: tensor([6, 7, 9, 4, 2, 9, 4, 1, 3, 9, 7, 2, 6, 6, 4, 1, 3, 5, 6, 4, 0, 5, 0, 8,\n",
      "        0, 6, 2, 5, 9, 5, 8, 4, 7, 0, 4, 1, 9, 3, 6, 3, 9, 0, 0, 1, 8, 1, 1, 1,\n",
      "        3, 1, 1, 6, 5, 1, 7, 0, 9, 6, 6, 3, 0, 4, 6, 0, 8, 4, 0, 8, 5, 9, 9, 3,\n",
      "        6, 9, 0, 2, 4, 0, 8, 4, 7, 7, 5, 2, 8, 3, 2, 9, 7, 3, 1, 8, 9, 3, 4, 5,\n",
      "        0, 6, 8, 3, 8, 1, 7, 6, 3, 9, 4, 0, 7, 4, 7, 0, 0, 1, 8, 5, 1, 4, 2, 4,\n",
      "        4, 0, 6, 3, 0, 8, 7, 1, 8, 5, 2, 7, 7, 0, 7, 4, 3, 3, 0, 1, 1, 7, 8, 5,\n",
      "        4, 4, 4, 8, 3, 8, 1, 3, 8, 6, 8, 8, 1, 2, 5, 3, 3, 5, 0, 9, 7, 1, 2, 6,\n",
      "        2, 8, 1, 7, 4, 2, 8, 1, 7, 5, 3, 8, 8, 0, 4, 0, 9, 2, 8, 5, 7, 6, 6, 8,\n",
      "        6, 7, 7, 8, 3, 1, 0, 6, 9, 7, 4, 0, 7, 3, 5, 9, 8, 2, 7, 4, 3, 5, 4, 7,\n",
      "        9, 7, 3, 8, 5, 4, 1, 2, 5, 5, 1, 7, 6, 3, 4, 5, 7, 3, 3, 5, 8, 2, 2, 9,\n",
      "        6, 1, 7, 6, 5, 5, 5, 8, 3, 5, 9, 8, 3, 5, 4, 9]) shape: torch.Size([256]) \n",
      "\n",
      "0\n",
      "Train_features in a batch run: tensor([[[[0.0000, 0.0000, 0.0000,  ..., 0.0000, 0.0000, 0.0000],\n",
      "          [0.0000, 0.0000, 0.0000,  ..., 0.0000, 0.0000, 0.0000],\n",
      "          [0.0000, 0.0000, 0.0000,  ..., 0.0000, 0.0000, 0.0000],\n",
      "          ...,\n",
      "          [0.0000, 0.0000, 0.0000,  ..., 0.0000, 0.0000, 0.0000],\n",
      "          [0.0000, 0.0000, 0.0000,  ..., 0.0000, 0.0000, 0.0000],\n",
      "          [0.0000, 0.0000, 0.0000,  ..., 0.0000, 0.0000, 0.0000]]],\n",
      "\n",
      "\n",
      "        [[[0.0000, 0.0000, 0.0000,  ..., 0.0000, 0.0000, 0.0000],\n",
      "          [0.0000, 0.0000, 0.0000,  ..., 0.0000, 0.0000, 0.0000],\n",
      "          [0.0000, 0.0000, 0.0000,  ..., 0.0000, 0.0000, 0.0000],\n",
      "          ...,\n",
      "          [0.0000, 0.0000, 0.0000,  ..., 0.0000, 0.0000, 0.0000],\n",
      "          [0.0000, 0.0000, 0.0000,  ..., 0.0000, 0.0000, 0.0000],\n",
      "          [0.0000, 0.0000, 0.0000,  ..., 0.0000, 0.0000, 0.0000]]],\n",
      "\n",
      "\n",
      "        [[[0.0000, 0.0000, 0.0000,  ..., 0.0000, 0.0000, 0.0000],\n",
      "          [0.0000, 0.0000, 0.0000,  ..., 0.0000, 0.0000, 0.0000],\n",
      "          [0.0000, 0.0000, 0.0000,  ..., 0.0000, 0.0000, 0.0000],\n",
      "          ...,\n",
      "          [0.0000, 0.0000, 0.0000,  ..., 0.0000, 0.0000, 0.0000],\n",
      "          [0.0000, 0.0000, 0.0000,  ..., 0.0000, 0.0000, 0.0000],\n",
      "          [0.0000, 0.0000, 0.0000,  ..., 0.0000, 0.0000, 0.0000]]],\n",
      "\n",
      "\n",
      "        ...,\n",
      "\n",
      "\n",
      "        [[[0.0000, 0.0000, 0.0000,  ..., 0.0000, 0.0000, 0.0000],\n",
      "          [0.0000, 0.0000, 0.0000,  ..., 0.0000, 0.0000, 0.0000],\n",
      "          [0.0000, 0.0000, 0.0000,  ..., 0.0000, 0.0000, 0.0000],\n",
      "          ...,\n",
      "          [0.0000, 0.0000, 0.0000,  ..., 0.0000, 0.0000, 0.0000],\n",
      "          [0.0000, 0.0000, 0.0000,  ..., 0.0000, 0.0000, 0.0000],\n",
      "          [0.0000, 0.0000, 0.0000,  ..., 0.0000, 0.0000, 0.0000]]],\n",
      "\n",
      "\n",
      "        [[[0.0000, 0.0000, 0.0000,  ..., 0.0000, 0.0000, 0.0000],\n",
      "          [0.0000, 0.0000, 0.0000,  ..., 0.0000, 0.0000, 0.0000],\n",
      "          [0.0000, 0.0000, 0.0000,  ..., 0.0000, 0.0000, 0.0000],\n",
      "          ...,\n",
      "          [0.0000, 0.0000, 0.0000,  ..., 0.0000, 0.0000, 0.0000],\n",
      "          [0.0000, 0.0000, 0.0000,  ..., 0.0000, 0.0000, 0.0000],\n",
      "          [0.0000, 0.0000, 0.0000,  ..., 0.0000, 0.0000, 0.0000]]],\n",
      "\n",
      "\n",
      "        [[[0.0000, 0.0000, 0.0000,  ..., 0.0000, 0.0000, 0.0000],\n",
      "          [0.0157, 0.0000, 0.0000,  ..., 0.0000, 0.0000, 0.0000],\n",
      "          [0.0000, 0.0000, 0.0118,  ..., 0.0000, 0.0000, 0.0000],\n",
      "          ...,\n",
      "          [0.0000, 0.0000, 0.0000,  ..., 0.0000, 0.0039, 0.0000],\n",
      "          [0.0000, 0.0000, 0.0000,  ..., 0.0000, 0.0000, 0.0000],\n",
      "          [0.0000, 0.0000, 0.0000,  ..., 0.0000, 0.0000, 0.0000]]]]) shape: torch.Size([256, 1, 28, 28])\n",
      "Train_labels in a batch run: tensor([1, 1, 1, 0, 7, 1, 1, 9, 0, 7, 3, 0, 2, 9, 0, 4, 4, 4, 2, 1, 3, 7, 0, 2,\n",
      "        3, 6, 7, 2, 6, 7, 8, 5, 6, 2, 9, 4, 6, 8, 5, 4, 6, 4, 1, 7, 2, 0, 6, 0,\n",
      "        4, 0, 6, 8, 5, 3, 8, 5, 9, 0, 5, 4, 8, 1, 5, 3, 4, 4, 1, 9, 2, 1, 3, 4,\n",
      "        5, 0, 1, 4, 7, 1, 4, 8, 8, 4, 8, 2, 1, 7, 7, 5, 9, 8, 4, 4, 4, 1, 7, 1,\n",
      "        6, 2, 1, 7, 8, 8, 8, 3, 2, 5, 9, 3, 7, 3, 6, 1, 6, 5, 9, 2, 6, 4, 6, 4,\n",
      "        9, 9, 1, 6, 3, 9, 3, 2, 0, 5, 6, 7, 0, 2, 7, 7, 7, 7, 4, 6, 8, 6, 6, 6,\n",
      "        1, 0, 2, 9, 0, 2, 9, 2, 7, 8, 3, 4, 2, 5, 8, 5, 8, 8, 7, 1, 7, 6, 9, 7,\n",
      "        5, 8, 8, 9, 4, 1, 8, 6, 6, 3, 1, 1, 6, 9, 8, 1, 7, 7, 1, 8, 3, 8, 4, 4,\n",
      "        8, 9, 9, 1, 2, 7, 0, 9, 6, 0, 2, 1, 5, 5, 9, 4, 9, 5, 7, 0, 6, 2, 3, 1,\n",
      "        3, 3, 8, 1, 5, 1, 7, 1, 8, 7, 1, 9, 3, 7, 2, 3, 5, 6, 3, 6, 9, 1, 1, 1,\n",
      "        7, 6, 3, 1, 5, 3, 6, 4, 4, 5, 0, 1, 0, 9, 0, 0]) shape: torch.Size([256]) \n",
      "\n"
     ]
    }
   ],
   "source": [
    "# # 使用 DataLoaders 为训练准备数据，train_dataloader是一个可迭代对象\n",
    "training_dataloader = DataLoader(training_data, batch_size=256, shuffle=True)\n",
    "print('Len of dataloader:', len(training_dataloader))             # 显示batch的数量\n",
    "print('Len of dataset:', len(training_dataloader.dataset))        # 显示训练集样本总数量\n",
    "print('\\n')\n",
    "\n",
    "# 测试一下，第一种读取方法，iter(train_dataloader)返回一个迭代器，使用next()访问\n",
    "train_features, train_labels = next(iter(training_dataloader))\n",
    "print('Train_features in a batch run:', train_features, 'shape:', train_features.shape)\n",
    "print('Train_labels in a batch run:', train_labels, 'shape:', train_labels.shape, '\\n')\n",
    "\n",
    "# 测试一下，第二种读取方法，使用enumerate(dataloader)配合for循环，遍历每个batch\n",
    "for test_batch, (test_X, test_y) in enumerate(training_dataloader):\n",
    "    print(test_batch)\n",
    "    print('Train_features in a batch run:', test_X, 'shape:', test_X.shape)\n",
    "    print('Train_labels in a batch run:', test_y, 'shape:', test_y.shape, '\\n')\n",
    "    break     # 只显示一个batch\n"
   ]
  },
  {
   "cell_type": "code",
   "execution_count": 28,
   "metadata": {
    "ExecuteTime": {
     "end_time": "2023-06-03T12:34:42.070467Z",
     "start_time": "2023-06-03T12:34:42.028567Z"
    },
    "collapsed": false
   },
   "outputs": [
    {
     "name": "stdout",
     "output_type": "stream",
     "text": [
      "Len of dataloader: 40\n",
      "Len of dataset: 10000\n",
      "\n",
      "\n"
     ]
    }
   ],
   "source": [
    "# # 使用 DataLoaders 为测试准备数据，test_dataloader是一个可迭代对象\n",
    "test_dataloader = DataLoader(test_data, batch_size=256, shuffle=True)\n",
    "print('Len of dataloader:', len(test_dataloader))             # 显示batch的数量\n",
    "print('Len of dataset:', len(test_dataloader.dataset))        # 显示训练集样本总数量\n",
    "print('\\n')"
   ]
  },
  {
   "cell_type": "code",
   "execution_count": 29,
   "metadata": {
    "ExecuteTime": {
     "end_time": "2023-06-03T12:34:44.310715Z",
     "start_time": "2023-06-03T12:34:44.269443Z"
    },
    "collapsed": false
   },
   "outputs": [],
   "source": [
    "# # 创建神经网络模型，nn.Module子类\n",
    "class NeuralNetwork(nn.Module):\n",
    "\n",
    "    # 初始化网络模型\n",
    "    def __init__(self):\n",
    "        super(NeuralNetwork, self).__init__()\n",
    "        self.flatten = nn.Flatten()            # 展平层在线性层之前调整网络形状\n",
    "        self.linear = nn.Linear(28*28, 10)     # 图片大小为28*28像素，因此输入为28*28；分类数为10，因此输出为10\n",
    "        self.softmax = nn.Softmax(dim=1)       # 对线性层的输出取Softmax，转换为概率\n",
    "\n",
    "    # 前向传播\n",
    "    def forward(self, x):\n",
    "        x = self.flatten(x)\n",
    "        # print('flatten output：', x, 'shape：', x.shape)\n",
    "        x = self.linear(x)\n",
    "        # print('linear output：', x, 'shape：', x.shape)\n",
    "        x = self.softmax(x)\n",
    "        # print('softmax output：', x, 'shape：', x.shape)\n",
    "        return x"
   ]
  },
  {
   "cell_type": "code",
   "execution_count": 30,
   "metadata": {
    "ExecuteTime": {
     "end_time": "2023-06-03T12:34:51.147109Z",
     "start_time": "2023-06-03T12:34:47.082767Z"
    },
    "collapsed": false
   },
   "outputs": [
    {
     "name": "stdout",
     "output_type": "stream",
     "text": [
      "Model information： NeuralNetwork(\n",
      "  (flatten): Flatten(start_dim=1, end_dim=-1)\n",
      "  (linear): Linear(in_features=784, out_features=10, bias=True)\n",
      "  (softmax): Softmax(dim=1)\n",
      ")\n",
      "Model parameters： <generator object Module.parameters at 0x0000011B4E6A0EB0>\n",
      "Layer: linear.weight | Size: torch.Size([10, 784]) | Values : Parameter containing:\n",
      "tensor([[-1.5489e-02, -2.9827e-02, -9.3831e-03,  ..., -3.1628e-02,\n",
      "          1.9608e-03,  3.0264e-02],\n",
      "        [-2.9175e-02, -1.4227e-02, -1.0530e-02,  ...,  3.4028e-02,\n",
      "         -3.3165e-02,  2.5100e-02],\n",
      "        [-3.2393e-02,  2.4122e-02, -3.2160e-02,  ..., -2.0401e-02,\n",
      "         -2.5369e-02,  2.3207e-02],\n",
      "        ...,\n",
      "        [-7.4833e-03, -5.8454e-03, -1.3521e-02,  ..., -2.1522e-02,\n",
      "          3.1728e-02,  2.6952e-02],\n",
      "        [ 2.0130e-02,  2.7686e-02, -6.0469e-03,  ..., -2.5989e-02,\n",
      "         -2.0872e-02, -3.4709e-02],\n",
      "        [ 2.5314e-02,  8.7285e-03,  2.0767e-02,  ...,  3.4146e-02,\n",
      "         -2.3402e-05, -2.7692e-02]], device='cuda:0', requires_grad=True) | Type : torch.float32\n",
      "Layer: linear.bias | Size: torch.Size([10]) | Values : Parameter containing:\n",
      "tensor([-0.0231, -0.0137, -0.0277,  0.0218,  0.0246,  0.0138,  0.0253,  0.0203,\n",
      "         0.0244,  0.0009], device='cuda:0', requires_grad=True) | Type : torch.float32\n",
      "\n",
      "\n",
      "tensor([[0.0882, 0.0968, 0.0728,  ..., 0.1243, 0.1036, 0.1381],\n",
      "        [0.0826, 0.1078, 0.0957,  ..., 0.1078, 0.0911, 0.1077],\n",
      "        [0.0682, 0.1075, 0.1056,  ..., 0.1109, 0.1113, 0.0924],\n",
      "        ...,\n",
      "        [0.1090, 0.0863, 0.1049,  ..., 0.0779, 0.1034, 0.1177],\n",
      "        [0.0842, 0.0805, 0.1219,  ..., 0.1050, 0.0972, 0.1183],\n",
      "        [0.0728, 0.0819, 0.1093,  ..., 0.1392, 0.0935, 0.1209]],\n",
      "       device='cuda:0', grad_fn=<SoftmaxBackward0>)\n"
     ]
    }
   ],
   "source": [
    "# # 实例化NeuralNetwork，并将其移动到device\n",
    "softmax_net = NeuralNetwork().to(device)\n",
    "\n",
    "# 测试一下，打印模型结构和参数\n",
    "print('Model information：', softmax_net)\n",
    "print('Model parameters：', softmax_net.parameters())\n",
    "for name, param in softmax_net.named_parameters():\n",
    "    print(f\"Layer: {name} | Size: {param.size()} | Values : {param} | Type : {param.dtype}\")\n",
    "print('\\n')\n",
    "\n",
    "# 测试一下，给模型一个输入得到一个输出\n",
    "train_features_test, train_labels_test = next(iter(training_dataloader))\n",
    "y_hat_test = softmax_net(train_features_test.to(device))\n",
    "print(y_hat_test)"
   ]
  },
  {
   "cell_type": "code",
   "execution_count": 31,
   "metadata": {
    "ExecuteTime": {
     "end_time": "2023-06-03T12:34:53.716941Z",
     "start_time": "2023-06-03T12:34:53.684169Z"
    },
    "collapsed": false
   },
   "outputs": [],
   "source": [
    "# # 定义超参数\n",
    "learning_rate = 0.1\n",
    "batch_size = 256\n",
    "epochs = 10\n",
    "\n",
    "\n",
    "# # 定义损失函数\n",
    "loss = nn.CrossEntropyLoss()  # 交叉熵损失，CrossEntropyLoss无需对label进行onehot编码\n",
    "\n",
    "\n",
    "# # 定义优化器\n",
    "trainer = torch.optim.SGD(softmax_net.parameters(), lr=learning_rate)  # 实例化SGD实例"
   ]
  },
  {
   "cell_type": "code",
   "execution_count": 32,
   "metadata": {
    "ExecuteTime": {
     "end_time": "2023-06-03T12:34:56.291441Z",
     "start_time": "2023-06-03T12:34:56.258387Z"
    },
    "collapsed": false
   },
   "outputs": [],
   "source": [
    "# #将预测值与真实y值进行比较，获取预测正确的个数，然后除以整个y的长度，即预测正确的概率\n",
    "def accuracy(y_hat, y):\n",
    "    # 计算预测正确的数量\n",
    "    if len(y_hat.shape) > 1 and y_hat.shape[1] > 1:\n",
    "        y_hat = y_hat.argmax(axis=1)     # 每一行最大元素值的下标，即预测的分类的类别\n",
    "    cmp = y_hat.type(y.dtype) == y\n",
    "    return float(cmp.type(y.dtype).sum())"
   ]
  },
  {
   "cell_type": "code",
   "execution_count": 33,
   "metadata": {
    "ExecuteTime": {
     "end_time": "2023-06-03T12:34:58.296337Z",
     "start_time": "2023-06-03T12:34:58.263972Z"
    },
    "collapsed": false
   },
   "outputs": [],
   "source": [
    "# # 定义训练函数，采用第一种读取方法\n",
    "def train_loop(dataloader, model, loss_fun, optimizer):\n",
    "    # 训练集样本总数\n",
    "    train_data_num = len(dataloader.dataset)\n",
    "    # 初始化正确个数记录\n",
    "    train_acc_num = 0\n",
    "    # 累加每个batch的train_loss\n",
    "    train_loss_sum = 0\n",
    "    for batch, (X, y) in enumerate(dataloader):\n",
    "        # 计算预测值\n",
    "        y_hat = model(X.to(device))\n",
    "        # 计算损失\n",
    "        train_loss = loss_fun(y_hat, y.to(device))\n",
    "        with torch.no_grad():\n",
    "            # 累加每个batch的损失\n",
    "            train_loss_sum += train_loss\n",
    "            # 计算预测正确数\n",
    "            train_acc_num += accuracy(y_hat, y.to(device))\n",
    "        # 清除梯度\n",
    "        optimizer.zero_grad()\n",
    "        # 反向传播\n",
    "        train_loss.backward()\n",
    "        # 更新参数\n",
    "        optimizer.step()\n",
    "    # 不计算梯度\n",
    "    with torch.no_grad():\n",
    "        print('当前Epoch的训练报告：\\n')\n",
    "        train_loss_average = train_loss_sum / (batch + 1)\n",
    "        print(f'train_loss: {train_loss_average :f}\\n')    # 对所有batch的train_loss取平均，得到平均训练损失\n",
    "        print(f'train_acc_num: {train_acc_num :f}\\n')                # 所有batch中预测正确的总个数\n",
    "        print(f'train_data_num: {train_data_num :f}\\n')\n",
    "        train_acc_rate = train_acc_num / train_data_num\n",
    "        print(f'train_acc_rate: {train_acc_rate :f}\\n')\n",
    "    return train_loss_average, train_acc_rate"
   ]
  },
  {
   "cell_type": "code",
   "execution_count": 34,
   "metadata": {
    "ExecuteTime": {
     "end_time": "2023-06-03T12:35:00.850024Z",
     "start_time": "2023-06-03T12:35:00.805752Z"
    },
    "collapsed": false
   },
   "outputs": [],
   "source": [
    "# # 定义测试函数\n",
    "def test_loop(dataloader, model, loss_fun):\n",
    "    # batch的个数\n",
    "    num_batches = len(dataloader)\n",
    "    # 测试集样本总数\n",
    "    test_data_num = len(dataloader.dataset)\n",
    "    # 初始化正确个数记录\n",
    "    test_acc_num = 0\n",
    "    # 初始化test_loss_sum\n",
    "    test_loss_sum = 0\n",
    "    # 不计算梯度\n",
    "    with torch.no_grad():\n",
    "        for X, y in dataloader:\n",
    "            # 计算预测值\n",
    "            y_hat = model(X.to(device))\n",
    "            # 计算损失的和\n",
    "            test_loss_sum += loss_fun(y_hat, y.to(device)).item()\n",
    "            # 计算预测正确数\n",
    "            test_acc_num += accuracy(y_hat, y.to(device))\n",
    "        print('当前Epoch的测试报告：\\n')\n",
    "        test_loss_average = test_loss_sum / num_batches\n",
    "        print(f'test_loss: {test_loss_average :f}\\n')     # 对所有batch的test_loss取平均，得到平均测试损失\n",
    "        print(f'test_acc_num: {test_acc_num :f}\\n')\n",
    "        print(f'test_data_num: {test_data_num :f}\\n')\n",
    "        test_acc_rate = test_acc_num / test_data_num\n",
    "        print(f'train_acc_rate: {test_acc_rate :f}\\n')\n",
    "    return test_loss_average, test_acc_rate\n"
   ]
  },
  {
   "cell_type": "code",
   "execution_count": 35,
   "metadata": {
    "ExecuteTime": {
     "end_time": "2023-06-03T12:35:03.826588Z",
     "start_time": "2023-06-03T12:35:03.797575Z"
    },
    "collapsed": false
   },
   "outputs": [],
   "source": [
    "# 初始化列表，用于存放训练损失、训练准确度、测试损失、测试准确度\n",
    "list_train_loss = []\n",
    "list_train_acc_rate = []\n",
    "list_test_loss = []\n",
    "list_test_acc_rate = []"
   ]
  },
  {
   "cell_type": "code",
   "execution_count": 36,
   "metadata": {
    "ExecuteTime": {
     "end_time": "2023-06-03T12:36:12.682850Z",
     "start_time": "2023-06-03T12:35:05.862362Z"
    },
    "collapsed": false
   },
   "outputs": [
    {
     "name": "stdout",
     "output_type": "stream",
     "text": [
      "Epoch 1\n",
      "-------------------------------\n",
      "当前Epoch的训练报告：\n",
      "\n",
      "train_loss: 2.003116\n",
      "\n",
      "train_acc_num: 31751.000000\n",
      "\n",
      "train_data_num: 60000.000000\n",
      "\n",
      "train_acc_rate: 0.529183\n",
      "\n",
      "当前Epoch的测试报告：\n",
      "\n",
      "test_loss: 1.874427\n",
      "\n",
      "test_acc_num: 6693.000000\n",
      "\n",
      "test_data_num: 10000.000000\n",
      "\n",
      "train_acc_rate: 0.669300\n",
      "\n",
      "Epoch 2\n",
      "-------------------------------\n",
      "当前Epoch的训练报告：\n",
      "\n",
      "train_loss: 1.829746\n",
      "\n",
      "train_acc_num: 41088.000000\n",
      "\n",
      "train_data_num: 60000.000000\n",
      "\n",
      "train_acc_rate: 0.684800\n",
      "\n",
      "当前Epoch的测试报告：\n",
      "\n",
      "test_loss: 1.804821\n",
      "\n",
      "test_acc_num: 6981.000000\n",
      "\n",
      "test_data_num: 10000.000000\n",
      "\n",
      "train_acc_rate: 0.698100\n",
      "\n",
      "Epoch 3\n",
      "-------------------------------\n",
      "当前Epoch的训练报告：\n",
      "\n",
      "train_loss: 1.783498\n",
      "\n",
      "train_acc_num: 43900.000000\n",
      "\n",
      "train_data_num: 60000.000000\n",
      "\n",
      "train_acc_rate: 0.731667\n",
      "\n",
      "当前Epoch的测试报告：\n",
      "\n",
      "test_loss: 1.775846\n",
      "\n",
      "test_acc_num: 7371.000000\n",
      "\n",
      "test_data_num: 10000.000000\n",
      "\n",
      "train_acc_rate: 0.737100\n",
      "\n",
      "Epoch 4\n",
      "-------------------------------\n",
      "当前Epoch的训练报告：\n",
      "\n",
      "train_loss: 1.756564\n",
      "\n",
      "train_acc_num: 45182.000000\n",
      "\n",
      "train_data_num: 60000.000000\n",
      "\n",
      "train_acc_rate: 0.753033\n",
      "\n",
      "当前Epoch的测试报告：\n",
      "\n",
      "test_loss: 1.755536\n",
      "\n",
      "test_acc_num: 7501.000000\n",
      "\n",
      "test_data_num: 10000.000000\n",
      "\n",
      "train_acc_rate: 0.750100\n",
      "\n",
      "Epoch 5\n",
      "-------------------------------\n",
      "当前Epoch的训练报告：\n",
      "\n",
      "train_loss: 1.741271\n",
      "\n",
      "train_acc_num: 45729.000000\n",
      "\n",
      "train_data_num: 60000.000000\n",
      "\n",
      "train_acc_rate: 0.762150\n",
      "\n",
      "当前Epoch的测试报告：\n",
      "\n",
      "test_loss: 1.748322\n",
      "\n",
      "test_acc_num: 7584.000000\n",
      "\n",
      "test_data_num: 10000.000000\n",
      "\n",
      "train_acc_rate: 0.758400\n",
      "\n",
      "Epoch 6\n",
      "-------------------------------\n",
      "当前Epoch的训练报告：\n",
      "\n",
      "train_loss: 1.730780\n",
      "\n",
      "train_acc_num: 46116.000000\n",
      "\n",
      "train_data_num: 60000.000000\n",
      "\n",
      "train_acc_rate: 0.768600\n",
      "\n",
      "当前Epoch的测试报告：\n",
      "\n",
      "test_loss: 1.736271\n",
      "\n",
      "test_acc_num: 7624.000000\n",
      "\n",
      "test_data_num: 10000.000000\n",
      "\n",
      "train_acc_rate: 0.762400\n",
      "\n",
      "Epoch 7\n",
      "-------------------------------\n",
      "当前Epoch的训练报告：\n",
      "\n",
      "train_loss: 1.722959\n",
      "\n",
      "train_acc_num: 46398.000000\n",
      "\n",
      "train_data_num: 60000.000000\n",
      "\n",
      "train_acc_rate: 0.773300\n",
      "\n",
      "当前Epoch的测试报告：\n",
      "\n",
      "test_loss: 1.727139\n",
      "\n",
      "test_acc_num: 7666.000000\n",
      "\n",
      "test_data_num: 10000.000000\n",
      "\n",
      "train_acc_rate: 0.766600\n",
      "\n",
      "Epoch 8\n",
      "-------------------------------\n",
      "当前Epoch的训练报告：\n",
      "\n",
      "train_loss: 1.717152\n",
      "\n",
      "train_acc_num: 46588.000000\n",
      "\n",
      "train_data_num: 60000.000000\n",
      "\n",
      "train_acc_rate: 0.776467\n",
      "\n",
      "当前Epoch的测试报告：\n",
      "\n",
      "test_loss: 1.717245\n",
      "\n",
      "test_acc_num: 7722.000000\n",
      "\n",
      "test_data_num: 10000.000000\n",
      "\n",
      "train_acc_rate: 0.772200\n",
      "\n",
      "Epoch 9\n",
      "-------------------------------\n",
      "当前Epoch的训练报告：\n",
      "\n",
      "train_loss: 1.712220\n",
      "\n",
      "train_acc_num: 46766.000000\n",
      "\n",
      "train_data_num: 60000.000000\n",
      "\n",
      "train_acc_rate: 0.779433\n",
      "\n",
      "当前Epoch的测试报告：\n",
      "\n",
      "test_loss: 1.714512\n",
      "\n",
      "test_acc_num: 7744.000000\n",
      "\n",
      "test_data_num: 10000.000000\n",
      "\n",
      "train_acc_rate: 0.774400\n",
      "\n",
      "Epoch 10\n",
      "-------------------------------\n",
      "当前Epoch的训练报告：\n",
      "\n",
      "train_loss: 1.708022\n",
      "\n",
      "train_acc_num: 46892.000000\n",
      "\n",
      "train_data_num: 60000.000000\n",
      "\n",
      "train_acc_rate: 0.781533\n",
      "\n",
      "当前Epoch的测试报告：\n",
      "\n",
      "test_loss: 1.713943\n",
      "\n",
      "test_acc_num: 7769.000000\n",
      "\n",
      "test_data_num: 10000.000000\n",
      "\n",
      "train_acc_rate: 0.776900\n",
      "\n",
      "Done!\n",
      "Layer: linear.weight | Size: torch.Size([10, 784]) | Values : tensor([[-0.0155, -0.0298, -0.0091,  ..., -0.0552, -0.0047,  0.0300],\n",
      "        [-0.0292, -0.0142, -0.0106,  ...,  0.0316, -0.0340,  0.0250]],\n",
      "       device='cuda:0', grad_fn=<SliceBackward0>) \n",
      "Layer: linear.bias | Size: torch.Size([10]) | Values : tensor([ 0.1007, -0.0317], device='cuda:0', grad_fn=<SliceBackward0>) \n",
      "\n",
      "\n",
      "range(0, 10)\n",
      "[2.003115653991699, 1.829745888710022, 1.783497929573059, 1.7565639019012451, 1.7412713766098022, 1.7307798862457275, 1.7229585647583008, 1.7171519994735718, 1.7122200727462769, 1.7080223560333252]\n",
      "[0.5291833333333333, 0.6848, 0.7316666666666667, 0.7530333333333333, 0.76215, 0.7686, 0.7733, 0.7764666666666666, 0.7794333333333333, 0.7815333333333333]\n",
      "[1.8744270205497742, 1.8048205614089965, 1.7758460491895676, 1.755535563826561, 1.748321682214737, 1.7362706512212753, 1.727139139175415, 1.7172447234392165, 1.7145116537809373, 1.7139428168535233]\n",
      "[0.6693, 0.6981, 0.7371, 0.7501, 0.7584, 0.7624, 0.7666, 0.7722, 0.7744, 0.7769]\n"
     ]
    }
   ],
   "source": [
    "# # 进行训练\n",
    "for i in range(epochs):\n",
    "    print(f\"Epoch {i + 1}\\n-------------------------------\")\n",
    "    # 训练\n",
    "    train_loss_epoch, train_acc_rate_epoch = train_loop(training_dataloader, softmax_net, loss, trainer)\n",
    "    # 测试\n",
    "    test_loss_epoch, test_acc_rate_epoch = test_loop(test_dataloader, softmax_net, loss)\n",
    "    # 将训练损失、训练准确度、测试损失、测试准确度存放至对应列表\n",
    "    list_train_loss.append(train_loss_epoch.item())\n",
    "    list_train_acc_rate.append(train_acc_rate_epoch)\n",
    "    list_test_loss.append(test_loss_epoch)\n",
    "    list_test_acc_rate.append(test_acc_rate_epoch)\n",
    "print(\"Done!\")\n",
    "\n",
    "# # 训练结束后打印超参数\n",
    "for name, param in softmax_net.named_parameters():\n",
    "    print(f\"Layer: {name} | Size: {param.size()} | Values : {param[:2]} \")\n",
    "print('\\n')\n",
    "\n",
    "# # 打印训练损失、训练准确度、测试损失、测试准确度列表\n",
    "print(range(epochs))\n",
    "print(list_train_loss)\n",
    "print(list_train_acc_rate)\n",
    "print(list_test_loss)\n",
    "print(list_test_acc_rate)"
   ]
  },
  {
   "cell_type": "code",
   "execution_count": 37,
   "metadata": {
    "ExecuteTime": {
     "end_time": "2023-06-03T12:36:23.530233Z",
     "start_time": "2023-06-03T12:36:23.088500Z"
    },
    "collapsed": false
   },
   "outputs": [
    {
     "data": {
      "image/png": "[encoded data removed]",
      "text/plain": [
       "<Figure size 640x480 with 4 Axes>"
      ]
     },
     "metadata": {},
     "output_type": "display_data"
    }
   ],
   "source": [
    "plt.subplot(2, 2, 1)\n",
    "plt.plot(range(epochs), list_train_loss, color='green', label='training loss')\n",
    "plt.xlabel('epoch')\n",
    "plt.ylabel('training loss')\n",
    "\n",
    "plt.subplot(2, 2, 2)\n",
    "plt.plot(range(epochs), list_train_acc_rate, color='red', label='training accuracy')\n",
    "plt.xlabel('epoch')\n",
    "plt.ylabel('training accuracy')\n",
    "\n",
    "plt.subplot(2, 2, 3)\n",
    "plt.plot(range(epochs), list_test_loss,  color='skyblue', label='testing loss')\n",
    "plt.xlabel('epoch')\n",
    "plt.ylabel('testing loss')\n",
    "\n",
    "plt.subplot(2, 2, 4)\n",
    "plt.plot(range(epochs), list_test_acc_rate, color='blue', label='testing accuracy')\n",
    "plt.xlabel('epoch')\n",
    "plt.ylabel('testing accuracy')\n",
    "\n",
    "plt.tight_layout()\n",
    "plt.show()"
   ]
  }
 ],
 "metadata": {
  "kernelspec": {
   "display_name": "Python 3",
   "language": "python",
   "name": "python3"
  },
  "language_info": {
   "codemirror_mode": {
    "name": "ipython",
    "version": 2
   },
   "file_extension": ".py",
   "mimetype": "text/x-python",
   "name": "python",
   "nbconvert_exporter": "python",
   "pygments_lexer": "ipython2",
   "version": "3.10.14"
  }
 },
 "nbformat": 4,
 "nbformat_minor": 0
}
