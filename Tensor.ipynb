{
 "cells": [
  {
   "cell_type": "code",
   "execution_count": 19,
   "metadata": {
    "collapsed": true,
    "ExecuteTime": {
     "start_time": "2023-05-27T15:35:17.545477Z",
     "end_time": "2023-05-27T15:35:17.582460Z"
    }
   },
   "outputs": [
    {
     "name": "stdout",
     "output_type": "stream",
     "text": [
      "tensor([[0.0681, 0.8331, 0.9526, 0.9872, 0.9794],\n",
      "        [0.0584, 0.8417, 0.2033, 0.8751, 0.1639],\n",
      "        [0.2736, 0.4847, 0.6092, 0.1503, 0.2873]])\n",
      "tensor([[0.0681, 0.8331, 0.9526],\n",
      "        [0.9872, 0.9794, 0.0584],\n",
      "        [0.8417, 0.2033, 0.8751],\n",
      "        [0.1639, 0.2736, 0.4847],\n",
      "        [0.6092, 0.1503, 0.2873]])\n",
      "tensor([[0.0681, 0.8331, 0.9526],\n",
      "        [0.9872, 0.9794, 0.0584],\n",
      "        [0.8417, 0.2033, 0.8751],\n",
      "        [0.1639, 0.2736, 0.4847],\n",
      "        [0.6092, 0.1503, 0.2873]])\n",
      "tensor([ 0,  1,  2,  3,  4,  5,  6,  7,  8,  9, 10, 11])\n",
      "torch.Size([12])\n"
     ]
    }
   ],
   "source": [
    "import torch\n",
    "\n",
    "x = torch.rand(3, 5)\n",
    "y = torch.arange(12)\n",
    "\n",
    "X = x.view(-1, 3)\n",
    "X_1 = x.reshape(5, 3)\n",
    "\n",
    "print(x)\n",
    "print(X)\n",
    "print(X_1)\n",
    "print(y)\n",
    "print(y.shape)"
   ]
  },
  {
   "cell_type": "code",
   "execution_count": 21,
   "outputs": [
    {
     "name": "stdout",
     "output_type": "stream",
     "text": [
      "Addition: tensor([3, 3, 3])\n",
      "Minus: tensor([-1, -1, -1])\n",
      "Product: tensor([2, 2, 2])\n",
      "Division: tensor([0.5000, 0.5000, 0.5000])\n",
      "Power: tensor([1, 1, 1])\n",
      "exp: tensor([7.3891, 7.3891, 7.3891])\n"
     ]
    }
   ],
   "source": [
    "# Tensor operations\n",
    "import torch\n",
    "# 按位运算\n",
    "\n",
    "x = torch.tensor([1, 1, 1])\n",
    "y = torch.tensor([2, 2, 2])\n",
    "\n",
    "print('Addition:', x + y)\n",
    "print('Minus:', x - y)\n",
    "print('Product:', x * y)\n",
    "print('Division:', x / y)\n",
    "print('Power:', x ** y)\n",
    "print('exp:', torch.exp(y))"
   ],
   "metadata": {
    "collapsed": false,
    "ExecuteTime": {
     "start_time": "2023-05-27T15:43:19.067606Z",
     "end_time": "2023-05-27T15:43:19.094762Z"
    }
   }
  },
  {
   "cell_type": "code",
   "execution_count": 23,
   "outputs": [
    {
     "name": "stdout",
     "output_type": "stream",
     "text": [
      "按行拼接： tensor([[ 0,  1,  2,  3],\n",
      "        [ 4,  5,  6,  7],\n",
      "        [ 8,  9, 10, 11],\n",
      "        [ 1,  2,  3,  4],\n",
      "        [ 5,  6,  7,  8],\n",
      "        [ 9, 10, 11, 12]])\n",
      "按列拼接: tensor([[ 0,  1,  2,  3,  1,  2,  3,  4],\n",
      "        [ 4,  5,  6,  7,  5,  6,  7,  8],\n",
      "        [ 8,  9, 10, 11,  9, 10, 11, 12]])\n"
     ]
    }
   ],
   "source": [
    "# Tensor concatenate\n",
    "import torch\n",
    "\n",
    "X = torch.arange(12).view(3, 4)\n",
    "Y = torch.tensor([[1, 2, 3, 4], [5, 6, 7, 8], [9, 10, 11, 12]])\n",
    "\n",
    "dim_0 = torch.cat((X, Y), dim=0)\n",
    "dim_1 = torch.cat((X, Y), dim=1)\n",
    "\n",
    "print('按行拼接：', dim_0)\n",
    "print('按列拼接:', dim_1)"
   ],
   "metadata": {
    "collapsed": false,
    "ExecuteTime": {
     "start_time": "2023-05-27T15:48:58.124220Z",
     "end_time": "2023-05-27T15:48:58.150705Z"
    }
   }
  },
  {
   "cell_type": "code",
   "execution_count": 26,
   "outputs": [
    {
     "name": "stdout",
     "output_type": "stream",
     "text": [
      "tensor([[ True,  True,  True,  True],\n",
      "        [ True,  True,  True,  True],\n",
      "        [False,  True, False,  True]])\n"
     ]
    }
   ],
   "source": [
    "# Tensor Logic Calculation\n",
    "import torch\n",
    "\n",
    "X = torch.arange(1, 13).view(3, 4)\n",
    "Y = torch.tensor([[1, 2, 3, 4], [5, 6, 7, 8], [7, 10, 1, 12]])\n",
    "\n",
    "print(X == Y)"
   ],
   "metadata": {
    "collapsed": false,
    "ExecuteTime": {
     "start_time": "2023-05-27T15:51:05.532877Z",
     "end_time": "2023-05-27T15:51:05.558748Z"
    }
   }
  },
  {
   "cell_type": "code",
   "execution_count": 27,
   "outputs": [
    {
     "name": "stdout",
     "output_type": "stream",
     "text": [
      "tensor(66)\n"
     ]
    }
   ],
   "source": [
    "# Tensor sum\n",
    "import torch\n",
    "\n",
    "Y = torch.tensor([[1, 2, 3, 4], [5, 6, 7, 8], [7, 10, 1, 12]])\n",
    "\n",
    "print(Y.sum())"
   ],
   "metadata": {
    "collapsed": false,
    "ExecuteTime": {
     "start_time": "2023-05-27T15:52:19.901118Z",
     "end_time": "2023-05-27T15:52:19.936509Z"
    }
   }
  },
  {
   "cell_type": "code",
   "execution_count": 28,
   "outputs": [
    {
     "name": "stdout",
     "output_type": "stream",
     "text": [
      "tensor([[2, 3, 4],\n",
      "        [3, 4, 5],\n",
      "        [4, 5, 6]])\n"
     ]
    }
   ],
   "source": [
    "# Tensor broadcasting\n",
    "import torch\n",
    "\n",
    "X = torch.tensor([[1, 2, 3]])\n",
    "Y = torch.tensor([[1], [2], [3]])\n",
    "\n",
    "print(X + Y)\n",
    "\n",
    "# X 将复制行 ， Y 将复制列，然后按位相加"
   ],
   "metadata": {
    "collapsed": false,
    "ExecuteTime": {
     "start_time": "2023-05-27T15:54:31.387674Z",
     "end_time": "2023-05-27T15:54:31.416074Z"
    }
   }
  },
  {
   "cell_type": "code",
   "execution_count": 8,
   "outputs": [
    {
     "name": "stdout",
     "output_type": "stream",
     "text": [
      "result_1 =  tensor([[0.9842, 0.3536, 0.3774, 0.8087, 1.5306],\n",
      "        [1.1415, 1.4733, 1.0242, 1.2429, 0.6229],\n",
      "        [0.7976, 1.3250, 1.4766, 1.2839, 0.9988]])\n",
      "result_2 =  tensor([[0.9842, 0.3536, 0.3774, 0.8087, 1.5306],\n",
      "        [1.1415, 1.4733, 1.0242, 1.2429, 0.6229],\n",
      "        [0.7976, 1.3250, 1.4766, 1.2839, 0.9988]])\n",
      "result_3 =  tensor([[1.5923, 0.5096, 0.6007, 1.0518, 2.3550],\n",
      "        [1.7036, 2.2561, 1.5641, 1.7518, 0.9386],\n",
      "        [0.9938, 1.7689, 1.9592, 1.9581, 1.8557]])\n"
     ]
    }
   ],
   "source": [
    "# Tensor addition\n",
    "import torch\n",
    "\n",
    "\n",
    "x = torch.rand(3, 5)\n",
    "y = torch.rand(3, 5)\n",
    "# 1 torch.add()\n",
    "result_1 = torch.empty(3, 5)\n",
    "\n",
    "torch.add(x, y, out= result_1)\n",
    "\n",
    "print('result_1 = ', result_1)\n",
    "\n",
    "# 2 tensor.add_()  Notice: 可以改变tensor量的操作都带有_后缀， 例如 x.copy_(y), x.t_() 都可以改变 x 变量\n",
    "x.add_(y)\n",
    "\n",
    "print('result_2 = ', x)\n",
    "\n",
    "# 3 +\n",
    "print('result_3 = ', torch.add(x, y))\n",
    "# print('result_3 = ', x + y)"
   ],
   "metadata": {
    "collapsed": false,
    "ExecuteTime": {
     "start_time": "2023-05-27T15:11:53.543442Z",
     "end_time": "2023-05-27T15:11:53.567049Z"
    }
   }
  },
  {
   "cell_type": "code",
   "execution_count": 6,
   "outputs": [
    {
     "name": "stdout",
     "output_type": "stream",
     "text": [
      "tensor([[0.1961, 0.0085, 0.9856, 0.6217, 0.9176],\n",
      "        [0.4967, 0.2955, 0.7550, 0.2040, 0.1417],\n",
      "        [0.1027, 0.3962, 0.7457, 0.5840, 0.2468]])\n",
      "tensor([0.1961, 0.4967, 0.1027])\n"
     ]
    }
   ],
   "source": [
    "# Tensor access\n",
    "import torch\n",
    "\n",
    "x = torch.rand(3, 5)\n",
    "\n",
    "print(x)\n",
    "print(x[:, 0])"
   ],
   "metadata": {
    "collapsed": false,
    "ExecuteTime": {
     "start_time": "2023-05-27T15:09:55.025860Z",
     "end_time": "2023-05-27T15:09:55.051161Z"
    }
   }
  },
  {
   "cell_type": "code",
   "execution_count": 9,
   "outputs": [
    {
     "name": "stdout",
     "output_type": "stream",
     "text": [
      "torch.Size([4, 4]) torch.Size([16]) torch.Size([2, 8])\n"
     ]
    }
   ],
   "source": [
    "# Tensor size modify\n",
    "import torch\n",
    "\n",
    "\n",
    "x = torch.randn(4, 4)\n",
    "y = x.view(16)\n",
    "# -1 表示除给定维度外的其余维度的乘积\n",
    "z = x.view(-1, 8)\n",
    "print(x.size(), y.size(), z.size())"
   ],
   "metadata": {
    "collapsed": false,
    "ExecuteTime": {
     "start_time": "2023-05-27T15:11:57.931402Z",
     "end_time": "2023-05-27T15:11:58.011011Z"
    }
   }
  },
  {
   "cell_type": "code",
   "execution_count": 30,
   "outputs": [
    {
     "name": "stdout",
     "output_type": "stream",
     "text": [
      "<class 'torch.Tensor'>\n",
      "<class 'numpy.ndarray'>\n",
      "new x =  tensor([[1.8702, 1.4758, 1.0227, 1.4007, 1.8095],\n",
      "        [1.2431, 1.1115, 1.8159, 1.1938, 1.5355],\n",
      "        [1.4178, 1.9793, 1.5806, 1.4242, 1.8741]])\n",
      "new y =  [[1.8701982 1.4757583 1.0227349 1.4007101 1.8095424]\n",
      " [1.2431192 1.1115049 1.8159304 1.1937559 1.5355082]\n",
      " [1.4177542 1.9792607 1.5806082 1.4242103 1.8741156]]\n",
      "3.5 3.5 3\n"
     ]
    }
   ],
   "source": [
    "# Tensor <--> Numpy.array, Tensor 和 Numpy 的数组可以相互转换，并且两者转换后共享在 CPU 下的内存空间，即改变其中一个的数值，另一个变量也会随之改变。\n",
    "import torch\n",
    "\n",
    "\n",
    "x = torch.rand(3,5)\n",
    "print(type(x))\n",
    "\n",
    "y = x.numpy()\n",
    "print(type(y))\n",
    "\n",
    "x.add_(1)\n",
    "print('new x = ', x)\n",
    "print('new y = ', y)\n",
    "\n",
    "# 如果一个Tensor 只有一个元素 可转化为标量\n",
    "X = torch.tensor([3.5])\n",
    "\n",
    "print(X.item(), float(X), int(X))"
   ],
   "metadata": {
    "collapsed": false,
    "ExecuteTime": {
     "start_time": "2023-05-27T16:11:13.504747Z",
     "end_time": "2023-05-27T16:11:13.529037Z"
    }
   }
  },
  {
   "cell_type": "code",
   "execution_count": null,
   "outputs": [],
   "source": [],
   "metadata": {
    "collapsed": false
   }
  }
 ],
 "metadata": {
  "kernelspec": {
   "display_name": "Python 3",
   "language": "python",
   "name": "python3"
  },
  "language_info": {
   "codemirror_mode": {
    "name": "ipython",
    "version": 2
   },
   "file_extension": ".py",
   "mimetype": "text/x-python",
   "name": "python",
   "nbconvert_exporter": "python",
   "pygments_lexer": "ipython2",
   "version": "2.7.6"
  }
 },
 "nbformat": 4,
 "nbformat_minor": 0
}
